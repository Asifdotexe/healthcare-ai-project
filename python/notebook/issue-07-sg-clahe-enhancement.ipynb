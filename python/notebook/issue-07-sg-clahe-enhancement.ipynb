{
 "cells": [
  {
   "cell_type": "code",
   "execution_count": 5,
   "metadata": {},
   "outputs": [],
   "source": [
    "import os\n",
    "import cv2\n",
    "from PIL import Image"
   ]
  },
  {
   "cell_type": "code",
   "execution_count": 10,
   "metadata": {},
   "outputs": [],
   "source": [
    "import pandas as pd"
   ]
  },
  {
   "cell_type": "code",
   "execution_count": 6,
   "metadata": {},
   "outputs": [
    {
     "name": "stdout",
     "output_type": "stream",
     "text": [
      "Task completed\n"
     ]
    }
   ],
   "source": [
    "# get the path/directory\n",
    "folder_dir = \"Dataset/images\"\n",
    "for images in os.listdir(folder_dir):\n",
    " \n",
    "    # Reading the image from the present directory\n",
    "    image = cv2.imread(f\"Dataset/images/{images}\")\n",
    "    \n",
    "    # The initial processing of the image\n",
    "    image_bw = cv2.cvtColor(image, cv2.COLOR_BGR2GRAY)\n",
    "\n",
    "    # The declaration of CLAHE\n",
    "    # clipLimit -> Threshold for contrast limiting\n",
    "    # tileGridSize -> Number of tiles in the row and column\n",
    "    clahe = cv2.createCLAHE(clipLimit=3, tileGridSize=(10, 10))\n",
    "    final_img = clahe.apply(image_bw)\n",
    "\n",
    "    # Adjust the brightness of the output\n",
    "    final_img = cv2.add(final_img, 5)\n",
    "    \n",
    "    #Saving the image in seperate folder\n",
    "    im = Image.fromarray(final_img) \n",
    "    image_path = \"Dataset/IMAGE\"\n",
    "    im.save(f\"{image_path}/{images}\")\n",
    "print(\"Task Completed\")"
   ]
  }
 ],
 "metadata": {
  "kernelspec": {
   "display_name": "Python 3",
   "language": "python",
   "name": "python3"
  },
  "language_info": {
   "codemirror_mode": {
    "name": "ipython",
    "version": 3
   },
   "file_extension": ".py",
   "mimetype": "text/x-python",
   "name": "python",
   "nbconvert_exporter": "python",
   "pygments_lexer": "ipython3",
   "version": "3.11.9"
  }
 },
 "nbformat": 4,
 "nbformat_minor": 2
}
