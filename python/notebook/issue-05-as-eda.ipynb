{
 "cells": [
  {
   "cell_type": "code",
   "execution_count": 1,
   "metadata": {},
   "outputs": [],
   "source": [
    "import os\n",
    "import sys\n",
    "\n",
    "import kagglehub\n",
    "import pandas as pd\n",
    "\n",
    "sys.path.append('../')\n",
    "from src.config import PROJECT_ROOT, DATA_DIR"
   ]
  },
  {
   "cell_type": "code",
   "execution_count": 2,
   "metadata": {},
   "outputs": [],
   "source": [
    "# Download latest version of data from kaggle\n",
    "path = kagglehub.dataset_download(\"redwankarimsony/chestxray8-dataframe\")\n",
    "\n",
    "# Load the dataset as a pandas dataframe and save it to the raw directory\n",
    "df = pd.read_csv(os.path.join(path,'train_df.csv'))\n",
    "df.to_csv(os.path.join(DATA_DIR, 'raw', \"chest_xray_vectorized_raw_as_05012025.csv\"))"
   ]
  },
  {
   "cell_type": "code",
   "execution_count": null,
   "metadata": {},
   "outputs": [],
   "source": []
  }
 ],
 "metadata": {
  "kernelspec": {
   "display_name": "healthai",
   "language": "python",
   "name": "python3"
  },
  "language_info": {
   "codemirror_mode": {
    "name": "ipython",
    "version": 3
   },
   "file_extension": ".py",
   "mimetype": "text/x-python",
   "name": "python",
   "nbconvert_exporter": "python",
   "pygments_lexer": "ipython3",
   "version": "3.12.7"
  }
 },
 "nbformat": 4,
 "nbformat_minor": 2
}
