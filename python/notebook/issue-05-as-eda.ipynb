{
 "cells": [
  {
   "cell_type": "code",
   "execution_count": 51,
   "metadata": {},
   "outputs": [],
   "source": [
    "import os\n",
    "import sys\n",
    "\n",
    "import kagglehub\n",
    "import pandas as pd\n",
    "import seaborn as sns\n",
    "import matplotlib.pyplot as plt\n",
    "\n",
    "sys.path.append('../')\n",
    "from src.config import PROJECT_ROOT, DATA_DIR\n",
    "\n",
    "sns.set_style('white')"
   ]
  },
  {
   "cell_type": "code",
   "execution_count": 2,
   "metadata": {},
   "outputs": [],
   "source": [
    "# Download latest version of data from kaggle\n",
    "path = kagglehub.dataset_download(\"redwankarimsony/chestxray8-dataframe\")\n",
    "\n",
    "# Load the dataset as a pandas dataframe and save it to the raw directory\n",
    "df = pd.read_csv(os.path.join(path,'train_df.csv'))\n",
    "\n",
    "# standardize the dataset columns\n",
    "df.columns = df.columns.str.lower().str.replace(' ', '_')\n",
    "df.to_csv(os.path.join(DATA_DIR, 'raw', \"chest_xray_vectorized_raw_as_05012025.csv\"))"
   ]
  },
  {
   "cell_type": "code",
   "execution_count": 3,
   "metadata": {},
   "outputs": [
    {
     "data": {
      "text/html": [
       "<div>\n",
       "<style scoped>\n",
       "    .dataframe tbody tr th:only-of-type {\n",
       "        vertical-align: middle;\n",
       "    }\n",
       "\n",
       "    .dataframe tbody tr th {\n",
       "        vertical-align: top;\n",
       "    }\n",
       "\n",
       "    .dataframe thead th {\n",
       "        text-align: right;\n",
       "    }\n",
       "</style>\n",
       "<table border=\"1\" class=\"dataframe\">\n",
       "  <thead>\n",
       "    <tr style=\"text-align: right;\">\n",
       "      <th></th>\n",
       "      <th>image_index</th>\n",
       "      <th>patient_id</th>\n",
       "      <th>cardiomegaly</th>\n",
       "      <th>emphysema</th>\n",
       "      <th>effusion</th>\n",
       "      <th>no_finding</th>\n",
       "      <th>hernia</th>\n",
       "      <th>infiltration</th>\n",
       "      <th>mass</th>\n",
       "      <th>nodule</th>\n",
       "      <th>atelectasis</th>\n",
       "      <th>pneumothorax</th>\n",
       "      <th>pleural_thickening</th>\n",
       "      <th>pneumonia</th>\n",
       "      <th>fibrosis</th>\n",
       "      <th>edema</th>\n",
       "      <th>consolidation</th>\n",
       "      <th>filepath</th>\n",
       "    </tr>\n",
       "  </thead>\n",
       "  <tbody>\n",
       "    <tr>\n",
       "      <th>0</th>\n",
       "      <td>00000001_000.png</td>\n",
       "      <td>1</td>\n",
       "      <td>1</td>\n",
       "      <td>0</td>\n",
       "      <td>0</td>\n",
       "      <td>0</td>\n",
       "      <td>0</td>\n",
       "      <td>0</td>\n",
       "      <td>0</td>\n",
       "      <td>0</td>\n",
       "      <td>0</td>\n",
       "      <td>0</td>\n",
       "      <td>0</td>\n",
       "      <td>0</td>\n",
       "      <td>0</td>\n",
       "      <td>0</td>\n",
       "      <td>0</td>\n",
       "      <td>../input/data/images_001/images/00000001_000.png</td>\n",
       "    </tr>\n",
       "    <tr>\n",
       "      <th>1</th>\n",
       "      <td>00000001_001.png</td>\n",
       "      <td>1</td>\n",
       "      <td>1</td>\n",
       "      <td>1</td>\n",
       "      <td>0</td>\n",
       "      <td>0</td>\n",
       "      <td>0</td>\n",
       "      <td>0</td>\n",
       "      <td>0</td>\n",
       "      <td>0</td>\n",
       "      <td>0</td>\n",
       "      <td>0</td>\n",
       "      <td>0</td>\n",
       "      <td>0</td>\n",
       "      <td>0</td>\n",
       "      <td>0</td>\n",
       "      <td>0</td>\n",
       "      <td>../input/data/images_001/images/00000001_001.png</td>\n",
       "    </tr>\n",
       "    <tr>\n",
       "      <th>2</th>\n",
       "      <td>00000001_002.png</td>\n",
       "      <td>1</td>\n",
       "      <td>1</td>\n",
       "      <td>0</td>\n",
       "      <td>1</td>\n",
       "      <td>0</td>\n",
       "      <td>0</td>\n",
       "      <td>0</td>\n",
       "      <td>0</td>\n",
       "      <td>0</td>\n",
       "      <td>0</td>\n",
       "      <td>0</td>\n",
       "      <td>0</td>\n",
       "      <td>0</td>\n",
       "      <td>0</td>\n",
       "      <td>0</td>\n",
       "      <td>0</td>\n",
       "      <td>../input/data/images_001/images/00000001_002.png</td>\n",
       "    </tr>\n",
       "    <tr>\n",
       "      <th>3</th>\n",
       "      <td>00000002_000.png</td>\n",
       "      <td>2</td>\n",
       "      <td>0</td>\n",
       "      <td>0</td>\n",
       "      <td>0</td>\n",
       "      <td>1</td>\n",
       "      <td>0</td>\n",
       "      <td>0</td>\n",
       "      <td>0</td>\n",
       "      <td>0</td>\n",
       "      <td>0</td>\n",
       "      <td>0</td>\n",
       "      <td>0</td>\n",
       "      <td>0</td>\n",
       "      <td>0</td>\n",
       "      <td>0</td>\n",
       "      <td>0</td>\n",
       "      <td>../input/data/images_001/images/00000002_000.png</td>\n",
       "    </tr>\n",
       "    <tr>\n",
       "      <th>4</th>\n",
       "      <td>00000003_000.png</td>\n",
       "      <td>3</td>\n",
       "      <td>0</td>\n",
       "      <td>0</td>\n",
       "      <td>0</td>\n",
       "      <td>0</td>\n",
       "      <td>1</td>\n",
       "      <td>0</td>\n",
       "      <td>0</td>\n",
       "      <td>0</td>\n",
       "      <td>0</td>\n",
       "      <td>0</td>\n",
       "      <td>0</td>\n",
       "      <td>0</td>\n",
       "      <td>0</td>\n",
       "      <td>0</td>\n",
       "      <td>0</td>\n",
       "      <td>../input/data/images_001/images/00000003_000.png</td>\n",
       "    </tr>\n",
       "  </tbody>\n",
       "</table>\n",
       "</div>"
      ],
      "text/plain": [
       "        image_index  patient_id  cardiomegaly  emphysema  effusion  \\\n",
       "0  00000001_000.png           1             1          0         0   \n",
       "1  00000001_001.png           1             1          1         0   \n",
       "2  00000001_002.png           1             1          0         1   \n",
       "3  00000002_000.png           2             0          0         0   \n",
       "4  00000003_000.png           3             0          0         0   \n",
       "\n",
       "   no_finding  hernia  infiltration  mass  nodule  atelectasis  pneumothorax  \\\n",
       "0           0       0             0     0       0            0             0   \n",
       "1           0       0             0     0       0            0             0   \n",
       "2           0       0             0     0       0            0             0   \n",
       "3           1       0             0     0       0            0             0   \n",
       "4           0       1             0     0       0            0             0   \n",
       "\n",
       "   pleural_thickening  pneumonia  fibrosis  edema  consolidation  \\\n",
       "0                   0          0         0      0              0   \n",
       "1                   0          0         0      0              0   \n",
       "2                   0          0         0      0              0   \n",
       "3                   0          0         0      0              0   \n",
       "4                   0          0         0      0              0   \n",
       "\n",
       "                                           filepath  \n",
       "0  ../input/data/images_001/images/00000001_000.png  \n",
       "1  ../input/data/images_001/images/00000001_001.png  \n",
       "2  ../input/data/images_001/images/00000001_002.png  \n",
       "3  ../input/data/images_001/images/00000002_000.png  \n",
       "4  ../input/data/images_001/images/00000003_000.png  "
      ]
     },
     "execution_count": 3,
     "metadata": {},
     "output_type": "execute_result"
    }
   ],
   "source": [
    "df.head()"
   ]
  },
  {
   "cell_type": "code",
   "execution_count": 4,
   "metadata": {},
   "outputs": [
    {
     "data": {
      "text/plain": [
       "(111863, 18)"
      ]
     },
     "execution_count": 4,
     "metadata": {},
     "output_type": "execute_result"
    }
   ],
   "source": [
    "df.shape"
   ]
  },
  {
   "cell_type": "code",
   "execution_count": 5,
   "metadata": {},
   "outputs": [
    {
     "data": {
      "text/plain": [
       "image_index           111863\n",
       "patient_id             30773\n",
       "cardiomegaly               2\n",
       "emphysema                  2\n",
       "effusion                   2\n",
       "no_finding                 2\n",
       "hernia                     2\n",
       "infiltration               2\n",
       "mass                       2\n",
       "nodule                     2\n",
       "atelectasis                2\n",
       "pneumothorax               2\n",
       "pleural_thickening         2\n",
       "pneumonia                  2\n",
       "fibrosis                   2\n",
       "edema                      2\n",
       "consolidation              2\n",
       "filepath              111863\n",
       "dtype: int64"
      ]
     },
     "execution_count": 5,
     "metadata": {},
     "output_type": "execute_result"
    }
   ],
   "source": [
    "df.nunique()"
   ]
  },
  {
   "cell_type": "markdown",
   "metadata": {},
   "source": [
    "We have data for 111K X-rays for 30K patients with 14 diagnosible disease labels and one no findings label"
   ]
  },
  {
   "cell_type": "code",
   "execution_count": 6,
   "metadata": {},
   "outputs": [],
   "source": [
    "disease_list = df.columns[2:-1]"
   ]
  },
  {
   "cell_type": "code",
   "execution_count": 7,
   "metadata": {},
   "outputs": [
    {
     "data": {
      "text/plain": [
       "image_index           0\n",
       "patient_id            0\n",
       "cardiomegaly          0\n",
       "emphysema             0\n",
       "effusion              0\n",
       "no_finding            0\n",
       "hernia                0\n",
       "infiltration          0\n",
       "mass                  0\n",
       "nodule                0\n",
       "atelectasis           0\n",
       "pneumothorax          0\n",
       "pleural_thickening    0\n",
       "pneumonia             0\n",
       "fibrosis              0\n",
       "edema                 0\n",
       "consolidation         0\n",
       "filepath              0\n",
       "dtype: int64"
      ]
     },
     "execution_count": 7,
     "metadata": {},
     "output_type": "execute_result"
    }
   ],
   "source": [
    "# checking for missing values\n",
    "df.isnull().sum()"
   ]
  },
  {
   "cell_type": "code",
   "execution_count": 52,
   "metadata": {},
   "outputs": [
    {
     "data": {
      "image/png": "[encoded data removed]",
      "text/plain": [
       "<Figure size 1200x600 with 1 Axes>"
      ]
     },
     "metadata": {},
     "output_type": "display_data"
    }
   ],
   "source": [
    "disease_frequencies = df[disease_list].sum().sort_values(ascending=False)\n",
    "total_occurrences = len(df)\n",
    "\n",
    "# Visualize the occurrences as a bar plot\n",
    "plt.figure(figsize=(12, 6))\n",
    "ax = sns.barplot(\n",
    "    x=disease_frequencies.index,\n",
    "    y=disease_frequencies.values,\n",
    "    hue=disease_frequencies.index,\n",
    "    dodge=False,\n",
    "    palette=\"viridis\",\n",
    "    legend=False,\n",
    ")\n",
    "plt.title(\"Frequency of Each Disease\", fontsize=16)\n",
    "plt.xlabel(\"Disease\", fontsize=12)\n",
    "plt.ylabel(\"Occurrences\", fontsize=12)\n",
    "plt.xticks(rotation=45)\n",
    "plt.grid()\n",
    "\n",
    "# Add the frequency labels on top of each bar\n",
    "for bar in ax.patches:\n",
    "    # Get the height (frequency) and position of the bar\n",
    "    bar_height = bar.get_height()\n",
    "    bar_x_position = bar.get_x() + bar.get_width() / 2\n",
    "    \n",
    "    percentage = (bar_height / total_occurrences) * 100\n",
    "\n",
    "    # Annotate the frequency value on top of the bar\n",
    "    ax.annotate(\n",
    "        f'{int(bar_height)} ({percentage:.1f}%)',  # display the height (frequency)\n",
    "        (bar_x_position, bar_height),  # position the text at the top of the bar\n",
    "        ha='center',\n",
    "        va='center',\n",
    "        fontsize=8,\n",
    "        color='black',\n",
    "        xytext=(0, 5),\n",
    "        textcoords='offset points'\n",
    "    )\n",
    "plt.tight_layout()\n",
    "plt.show()"
   ]
  },
  {
   "cell_type": "code",
   "execution_count": null,
   "metadata": {},
   "outputs": [
    {
     "data": {
      "image/png": "[encoded data removed]",
      "text/plain": [
       "<Figure size 1200x800 with 1 Axes>"
      ]
     },
     "metadata": {},
     "output_type": "display_data"
    }
   ],
   "source": [
    "# plotting the histogram of patient's x-ray count\n",
    "df.groupby(by='patient_id').size().reset_index(name='count')['count'].hist()\n",
    "plt.figure(figsize=(12, 8))\n",
    "plt.title(\"Histogram of patient's x-ray occurence\")\n",
    "plt.ylabel(\"Frequency\")\n",
    "plt.xlabel(\"Count\")\n",
    "plt.yscale('log')\n",
    "plt.show()"
   ]
  },
  {
   "cell_type": "code",
   "execution_count": 43,
   "metadata": {},
   "outputs": [
    {
     "data": {
      "text/html": [
       "<div>\n",
       "<style scoped>\n",
       "    .dataframe tbody tr th:only-of-type {\n",
       "        vertical-align: middle;\n",
       "    }\n",
       "\n",
       "    .dataframe tbody tr th {\n",
       "        vertical-align: top;\n",
       "    }\n",
       "\n",
       "    .dataframe thead th {\n",
       "        text-align: right;\n",
       "    }\n",
       "</style>\n",
       "<table border=\"1\" class=\"dataframe\">\n",
       "  <thead>\n",
       "    <tr style=\"text-align: right;\">\n",
       "      <th></th>\n",
       "      <th>patient_id</th>\n",
       "      <th>count</th>\n",
       "    </tr>\n",
       "  </thead>\n",
       "  <tbody>\n",
       "    <tr>\n",
       "      <th>count</th>\n",
       "      <td>30773.000000</td>\n",
       "      <td>30773.000000</td>\n",
       "    </tr>\n",
       "    <tr>\n",
       "      <th>mean</th>\n",
       "      <td>15409.413544</td>\n",
       "      <td>3.635102</td>\n",
       "    </tr>\n",
       "    <tr>\n",
       "      <th>std</th>\n",
       "      <td>8892.735548</td>\n",
       "      <td>7.243893</td>\n",
       "    </tr>\n",
       "    <tr>\n",
       "      <th>min</th>\n",
       "      <td>1.000000</td>\n",
       "      <td>1.000000</td>\n",
       "    </tr>\n",
       "    <tr>\n",
       "      <th>25%</th>\n",
       "      <td>7711.000000</td>\n",
       "      <td>1.000000</td>\n",
       "    </tr>\n",
       "    <tr>\n",
       "      <th>50%</th>\n",
       "      <td>15413.000000</td>\n",
       "      <td>1.000000</td>\n",
       "    </tr>\n",
       "    <tr>\n",
       "      <th>75%</th>\n",
       "      <td>23111.000000</td>\n",
       "      <td>3.000000</td>\n",
       "    </tr>\n",
       "    <tr>\n",
       "      <th>max</th>\n",
       "      <td>30805.000000</td>\n",
       "      <td>182.000000</td>\n",
       "    </tr>\n",
       "  </tbody>\n",
       "</table>\n",
       "</div>"
      ],
      "text/plain": [
       "         patient_id         count\n",
       "count  30773.000000  30773.000000\n",
       "mean   15409.413544      3.635102\n",
       "std     8892.735548      7.243893\n",
       "min        1.000000      1.000000\n",
       "25%     7711.000000      1.000000\n",
       "50%    15413.000000      1.000000\n",
       "75%    23111.000000      3.000000\n",
       "max    30805.000000    182.000000"
      ]
     },
     "execution_count": 43,
     "metadata": {},
     "output_type": "execute_result"
    }
   ],
   "source": [
    "# verifying the varience in patient's frequency from the histogram\n",
    "df.groupby(by='patient_id').size().reset_index(name='count').describe()"
   ]
  },
  {
   "cell_type": "code",
   "execution_count": 65,
   "metadata": {},
   "outputs": [
    {
     "data": {
      "text/html": [
       "<div>\n",
       "<style scoped>\n",
       "    .dataframe tbody tr th:only-of-type {\n",
       "        vertical-align: middle;\n",
       "    }\n",
       "\n",
       "    .dataframe tbody tr th {\n",
       "        vertical-align: top;\n",
       "    }\n",
       "\n",
       "    .dataframe thead th {\n",
       "        text-align: right;\n",
       "    }\n",
       "</style>\n",
       "<table border=\"1\" class=\"dataframe\">\n",
       "  <thead>\n",
       "    <tr style=\"text-align: right;\">\n",
       "      <th></th>\n",
       "      <th>patient_id</th>\n",
       "      <th>count</th>\n",
       "    </tr>\n",
       "  </thead>\n",
       "  <tbody>\n",
       "    <tr>\n",
       "      <th>13968</th>\n",
       "      <td>13993</td>\n",
       "      <td>143</td>\n",
       "    </tr>\n",
       "    <tr>\n",
       "      <th>12812</th>\n",
       "      <td>12834</td>\n",
       "      <td>154</td>\n",
       "    </tr>\n",
       "    <tr>\n",
       "      <th>15503</th>\n",
       "      <td>15530</td>\n",
       "      <td>157</td>\n",
       "    </tr>\n",
       "    <tr>\n",
       "      <th>13645</th>\n",
       "      <td>13670</td>\n",
       "      <td>170</td>\n",
       "    </tr>\n",
       "    <tr>\n",
       "      <th>9986</th>\n",
       "      <td>10007</td>\n",
       "      <td>182</td>\n",
       "    </tr>\n",
       "  </tbody>\n",
       "</table>\n",
       "</div>"
      ],
      "text/plain": [
       "       patient_id  count\n",
       "13968       13993    143\n",
       "12812       12834    154\n",
       "15503       15530    157\n",
       "13645       13670    170\n",
       "9986        10007    182"
      ]
     },
     "execution_count": 65,
     "metadata": {},
     "output_type": "execute_result"
    }
   ],
   "source": [
    "# looking at the id's with the highest count of x-rays\n",
    "df.groupby(by='patient_id').size().reset_index(name='count').sort_values(by='count').tail(5)"
   ]
  },
  {
   "cell_type": "code",
   "execution_count": null,
   "metadata": {},
   "outputs": [],
   "source": []
  }
 ],
 "metadata": {
  "kernelspec": {
   "display_name": "healthai",
   "language": "python",
   "name": "python3"
  },
  "language_info": {
   "codemirror_mode": {
    "name": "ipython",
    "version": 3
   },
   "file_extension": ".py",
   "mimetype": "text/x-python",
   "name": "python",
   "nbconvert_exporter": "python",
   "pygments_lexer": "ipython3",
   "version": "3.12.7"
  }
 },
 "nbformat": 4,
 "nbformat_minor": 2
}
